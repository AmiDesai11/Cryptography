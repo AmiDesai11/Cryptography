{
  "nbformat": 4,
  "nbformat_minor": 0,
  "metadata": {
    "colab": {
      "provenance": []
    },
    "kernelspec": {
      "name": "python3",
      "display_name": "Python 3"
    },
    "language_info": {
      "name": "python"
    }
  },
  "cells": [
    {
      "cell_type": "markdown",
      "source": [
        "DSA (Digital Signature Algorithm) Verification: DSA is a widely used digital signature algorithm based on the discrete logarithm problem.\n",
        "Here, we first generate the private and public key pairs using the DSA parameters (p, q, g, x). Then, we sign a sample message using the private key to generate the signature. Finally, we verify the signature using the public key and the original message to check if the signature is valid. The DSA signature verification process involves mathematical calculations using modular exponentiation and modular inverse to ensure the signature is valid."
      ],
      "metadata": {
        "id": "cVWsBjsLiFJR"
      }
    },
    {
      "cell_type": "code",
      "source": [
        "from hashlib import sha256\n",
        "from sympy import isprime, mod_inverse\n",
        "\n",
        "def generate_key_pair(p, q, g, x):\n",
        "    # Private key (x) and Public key (y) generation\n",
        "    y = pow(g, x, p)\n",
        "    return x, y\n",
        "\n",
        "def sign(message, p, q, g, x):\n",
        "    # DSA signature generation\n",
        "    k = 2  # A random secret value (k) for each signature\n",
        "    r = pow(g, k, p) % q\n",
        "    s = (mod_inverse(k, q) * (int(sha256(message).hexdigest(), 16) + x*r)) % q\n",
        "    return r, s\n",
        "\n",
        "def verify(message, signature, p, q, g, y):\n",
        "    # DSA signature verification\n",
        "    r, s = signature\n",
        "    if not 0 < r < q or not 0 < s < q:\n",
        "        return False\n",
        "\n",
        "    w = mod_inverse(s, q)\n",
        "    u1 = (int(sha256(message).hexdigest(), 16) * w) % q\n",
        "    u2 = (r * w) % q\n",
        "    v = ((pow(g, u1, p) * pow(y, u2, p)) % p) % q\n",
        "\n",
        "    return v == r\n",
        "\n",
        "if __name__ == \"__main__\":\n",
        "    # DSA parameters\n",
        "    p = 17389  # A large prime number\n",
        "    q = 7691   # A prime divisor of (p-1)\n",
        "    g = 9703   # A generator of the subgroup of order q (1 < g < p)\n",
        "    x = 1234   # Private key (1 < x < q)\n",
        "\n",
        "    # Generate key pair\n",
        "    private_key, public_key = generate_key_pair(p, q, g, x)\n",
        "\n",
        "    # Sample message\n",
        "    message = \"Ami Loves Cryptography\"\n",
        "\n",
        "    # Sign the message\n",
        "    signature = sign(message.encode(), p, q, g, private_key)\n",
        "\n",
        "    # Verify the signature\n",
        "    is_valid = verify(message.encode(), signature, p, q, g, public_key)\n",
        "\n",
        "    print(\"Message:\", message)\n",
        "    print(\"Signature:\", signature)\n",
        "    print(\"Is the signature valid?\", is_valid)"
      ],
      "metadata": {
        "colab": {
          "base_uri": "https://localhost:8080/"
        },
        "id": "PMiCXy38hvgP",
        "outputId": "2f601761-0c73-4225-da18-ecba25c47dc0"
      },
      "execution_count": 3,
      "outputs": [
        {
          "output_type": "stream",
          "name": "stdout",
          "text": [
            "Message: Ami Loves Cryptography\n",
            "Signature: (4163, 7263)\n",
            "Is the signature valid? False\n"
          ]
        }
      ]
    }
  ]
}