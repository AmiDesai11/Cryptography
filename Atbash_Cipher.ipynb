{
  "nbformat": 4,
  "nbformat_minor": 0,
  "metadata": {
    "colab": {
      "provenance": []
    },
    "kernelspec": {
      "name": "python3",
      "display_name": "Python 3"
    },
    "language_info": {
      "name": "python"
    }
  },
  "cells": [
    {
      "cell_type": "markdown",
      "source": [
        "The Atbash Cipher is a simple substitution cipher where each letter in the plaintext is replaced with its reverse in the alphabet. For example, 'A' becomes 'Z', 'B' becomes 'Y', 'C' becomes 'X'."
      ],
      "metadata": {
        "id": "ipRszGJCRQNp"
      }
    },
    {
      "cell_type": "code",
      "source": [
        "def atbash_encrypt(plain_text):\n",
        "    encrypted_text = \"\"\n",
        "    for char in plain_text:\n",
        "        if char.isalpha():\n",
        "            if char.isupper():\n",
        "                encrypted_text += chr(90 - (ord(char) - 65))\n",
        "            else:\n",
        "                encrypted_text += chr(122 - (ord(char) - 97))\n",
        "        else:\n",
        "            encrypted_text += char\n",
        "    return encrypted_text\n",
        "\n",
        "def atbash_decrypt(cipher_text):\n",
        "    return atbash_encrypt(cipher_text)\n",
        "\n",
        "plaintext = \"Ami Loves Cryptography\"\n",
        "\n",
        "cipher_text = atbash_encrypt(plaintext)\n",
        "print(\"Encrypted:\", cipher_text)\n",
        "\n",
        "decrypted_text = atbash_decrypt(cipher_text)\n",
        "print(\"Decrypted:\", decrypted_text)"
      ],
      "metadata": {
        "colab": {
          "base_uri": "https://localhost:8080/"
        },
        "id": "dsxuue-4RZn-",
        "outputId": "784454e5-9167-4f52-c08c-9dbcdc75b79c"
      },
      "execution_count": 2,
      "outputs": [
        {
          "output_type": "stream",
          "name": "stdout",
          "text": [
            "Encrypted: Znr Olevh Xibkgltizksb\n",
            "Decrypted: Ami Loves Cryptography\n"
          ]
        }
      ]
    }
  ]
}