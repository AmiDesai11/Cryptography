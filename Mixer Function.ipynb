{
  "cells": [
    {
      "cell_type": "markdown",
      "source": [
        " Implementing a simple encryption and decryption algorithm using a mixer function."
      ],
      "metadata": {
        "id": "3nc9dmne6za6"
      }
    },
    {
      "cell_type": "code",
      "source": [
        "def p_expansion(rp):\n",
        "    new_rp = \"\"\n",
        "    new_rp += rp[1] + rp[2] + rp[3] + rp[1] + rp[2] + rp[0] + rp[3]\n",
        "    return new_rp\n",
        "\n",
        "\n",
        "def s_compression(val):\n",
        "    box_no = int(val[0:2], 2)\n",
        "    row_no = int(val[2:5], 2)\n",
        "    col_no = int(val[5:7], 2)\n",
        "    new_val = abs(row_no * col_no - box_no * 5) % 15\n",
        "    new_val = format(new_val, 'b')\n",
        "    return new_val\n",
        "\n",
        "\n",
        "def mixer(rp, key):\n",
        "    new_rp = p_expansion(rp)\n",
        "    print('p expansion: ', new_rp)\n",
        "    temp = int(key, 2) ^ int(new_rp, 2)\n",
        "    temp = format(temp, 'b')\n",
        "    if len(temp) < 7:\n",
        "        temp = '0' * (7 - len(temp)) + temp\n",
        "    print('xor: ', temp)\n",
        "    new_rp = s_compression(temp)\n",
        "    print('s compression: ', new_rp)\n",
        "    return new_rp\n",
        "\n",
        "\n",
        "def my_encrypt(plain, key):\n",
        "    if len(plain) % 8 != 0:\n",
        "        plain += '*' * (8 - len(plain) % 8)\n",
        "    n = int(len(plain) / 8)\n",
        "    cipher = \"\"\n",
        "    for i in range(n):\n",
        "        lp = plain[0 + i * 4:4 + i * 4]\n",
        "        rp = plain[4 + i * 4:8 + i * 4]\n",
        "        print('lp: ', lp, ' rp: ', rp)\n",
        "        mixer_val = mixer(rp, key)\n",
        "        new_rp = int(lp, 2) ^ int(mixer_val, 2)\n",
        "        new_rp = format(new_rp, 'b')\n",
        "        if len(new_rp) < 4:\n",
        "            new_rp = '0' * (4 - len(new_rp)) + new_rp\n",
        "        cipher += rp + new_rp\n",
        "        print('cipher: ', cipher)\n",
        "    return cipher\n",
        "\n",
        "\n",
        "def my_decrypt(cipher, key):\n",
        "    n = int(len(cipher) / 8)\n",
        "    decipher = \"\"\n",
        "    for i in range(n):\n",
        "        lp = cipher[0 + i * 4:4 + i * 4]\n",
        "        rp = cipher[4 + i * 4:8 + i * 4]\n",
        "        og_rp = lp\n",
        "        print('lp: ', lp, ' rp: ', rp)\n",
        "        mixer_val = mixer(og_rp, key)\n",
        "        new_lp = int(rp, 2) ^ int(mixer_val, 2)\n",
        "        new_lp = format(new_lp, 'b')\n",
        "        if len(new_lp) < 4:\n",
        "            new_lp = '0' * (4 - len(new_lp)) + new_lp\n",
        "        decipher += new_lp + og_rp\n",
        "        print('decipher: ', decipher)\n",
        "    return decipher\n",
        "\n",
        "\n",
        "plain = input(\"Enter plain text: \")\n",
        "key = input(\"Enter key: \")\n",
        "\n",
        "print(\"\\n--- Encryption ---\")\n",
        "cipher = my_encrypt(plain, key)\n",
        "print(\"Cipher: \", cipher)\n",
        "\n",
        "print(\"\\n--- Decryption ---\")\n",
        "decipher = my_decrypt(cipher, key)\n",
        "print(\"Decipher: \", decipher)"
      ],
      "metadata": {
        "id": "5BHaZMjI68eH",
        "outputId": "3b6cfce9-136c-48d8-fc67-5f43257ff1f3",
        "colab": {
          "base_uri": "https://localhost:8080/"
        }
      },
      "execution_count": 11,
      "outputs": [
        {
          "output_type": "stream",
          "name": "stdout",
          "text": [
            "Enter plain text: 10111001\n",
            "Enter key: 1100110\n",
            "\n",
            "--- Encryption ---\n",
            "lp:  1011  rp:  1001\n",
            "p expansion:  0010011\n",
            "xor:  1110101\n",
            "s compression:  1010\n",
            "cipher:  10010001\n",
            "Cipher:  10010001\n",
            "\n",
            "--- Decryption ---\n",
            "lp:  1001  rp:  0001\n",
            "p expansion:  0010011\n",
            "xor:  1110101\n",
            "s compression:  1010\n",
            "decipher:  10111001\n",
            "Decipher:  10111001\n"
          ]
        }
      ]
    }
  ],
  "metadata": {
    "colab": {
      "name": "Welcome To Colaboratory",
      "provenance": []
    },
    "kernelspec": {
      "display_name": "Python 3",
      "name": "python3"
    }
  },
  "nbformat": 4,
  "nbformat_minor": 0
}