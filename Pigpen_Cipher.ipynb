{
  "nbformat": 4,
  "nbformat_minor": 0,
  "metadata": {
    "colab": {
      "provenance": []
    },
    "kernelspec": {
      "name": "python3",
      "display_name": "Python 3"
    },
    "language_info": {
      "name": "python"
    }
  },
  "cells": [
    {
      "cell_type": "code",
      "execution_count": 2,
      "metadata": {
        "colab": {
          "base_uri": "https://localhost:8080/"
        },
        "id": "Uy08SjzQ9PO4",
        "outputId": "b5da359f-4753-4d4f-8fae-28cfae4cb9f0"
      },
      "outputs": [
        {
          "output_type": "stream",
          "name": "stdout",
          "text": [
            "Original Message: AMI LOVES CRYPTOGRAPHY\n",
            "Encrypted Message: ⊡⊟⊛ ⊞⊡⊚⊗⊗ ⊓⊕⊝⊔⊘⊡⊙⊕⊡⊔⊚⊝\n",
            "Decrypted Message: AMI LAHEE CDKBFAGDABHK\n"
          ]
        }
      ],
      "source": [
        "def pigpen_encrypt(message):\n",
        "    pigpen_key = {\n",
        "        'A': '⊡', 'B': '⊔', 'C': '⊓', 'D': '⊕', 'E': '⊗', 'F': '⊘',\n",
        "        'G': '⊙', 'H': '⊚', 'I': '⊛', 'J': '⊜', 'K': '⊝', 'L': '⊞',\n",
        "        'M': '⊟', 'N': '⊠', 'O': '⊡', 'P': '⊔', 'Q': '⊓', 'R': '⊕',\n",
        "        'S': '⊗', 'T': '⊘', 'U': '⊙', 'V': '⊚', 'W': '⊛', 'X': '⊜',\n",
        "        'Y': '⊝', 'Z': '⊞', ' ': ' ',\n",
        "    }\n",
        "\n",
        "    encrypted_message = ''\n",
        "    for char in message.upper():\n",
        "        if char in pigpen_key:\n",
        "            encrypted_message += pigpen_key[char]\n",
        "        else:\n",
        "            encrypted_message += char\n",
        "\n",
        "    return encrypted_message\n",
        "\n",
        "\n",
        "def pigpen_decrypt(encrypted_message):\n",
        "    pigpen_key = {\n",
        "        '⊡': 'A', '⊔': 'B', '⊓': 'C', '⊕': 'D', '⊗': 'E', '⊘': 'F',\n",
        "        '⊙': 'G', '⊚': 'H', '⊛': 'I', '⊜': 'J', '⊝': 'K', '⊞': 'L',\n",
        "        '⊟': 'M', '⊠': 'N', ' ': ' ',\n",
        "    }\n",
        "\n",
        "    decrypted_message = ''\n",
        "    for char in encrypted_message:\n",
        "        if char in pigpen_key:\n",
        "            decrypted_message += pigpen_key[char]\n",
        "        else:\n",
        "            decrypted_message += char\n",
        "\n",
        "    return decrypted_message\n",
        "\n",
        "\n",
        "\n",
        "message = \"AMI LOVES CRYPTOGRAPHY\"\n",
        "encrypted_message = pigpen_encrypt(message)\n",
        "decrypted_message = pigpen_decrypt(encrypted_message)\n",
        "\n",
        "print(\"Original Message:\", message)\n",
        "print(\"Encrypted Message:\", encrypted_message)\n",
        "print(\"Decrypted Message:\", decrypted_message)\n"
      ]
    }
  ]
}