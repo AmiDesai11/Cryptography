{
  "nbformat": 4,
  "nbformat_minor": 0,
  "metadata": {
    "colab": {
      "provenance": []
    },
    "kernelspec": {
      "name": "python3",
      "display_name": "Python 3"
    },
    "language_info": {
      "name": "python"
    }
  },
  "cells": [
    {
      "cell_type": "markdown",
      "source": [
        "Performing two encryption algorithms: Caesar Cipher (CCT) and Columnar Transposition (ColTT). It also includes decryption functions for both algorithms."
      ],
      "metadata": {
        "id": "Pwzy8YYXgofX"
      }
    },
    {
      "cell_type": "code",
      "source": [
        "def CCT_Enc(plain_text, key):\n",
        "    new_text = ''\n",
        "    for i in plain_text:\n",
        "        new_text = new_text+(chr(ord(i)+key))\n",
        "    print(\"Cipher text of Caesar Cipher is \" + new_text)\n",
        "    return new_text\n",
        "\n",
        "\n",
        "def CCT_Dec(cypher_text, key):\n",
        "    plain_text = ''\n",
        "    for i in cypher_text:\n",
        "        plain_text = plain_text+(chr(ord(i)-key))\n",
        "    print(\"Decrypted text of Caesar Cypher is \" + plain_text)\n",
        "\n",
        "\n",
        "def ColTT_Enc(plain_text, key):\n",
        "    matrix = []\n",
        "    for i in range(key):\n",
        "        matrix.append([])\n",
        "    for i in range(len(plain_text)):\n",
        "        matrix[i % key].append(plain_text[i])\n",
        "    for i in matrix:\n",
        "        print(i)\n",
        "    cypher_text = ''\n",
        "    for i in matrix:\n",
        "        for char in i:\n",
        "            cypher_text += char\n",
        "    print(\"Cipher text of Columnar Transposition is \" + cypher_text)\n",
        "    return cypher_text\n",
        "\n",
        "\n",
        "def ColTT_Dec(cypher_text, key):\n",
        "    matrix = []\n",
        "    for i in range(key):\n",
        "        matrix.append([])\n",
        "    count = int(len(cypher_text)/key)\n",
        "    length = 0\n",
        "    extra = int(len(cypher_text) % key)\n",
        "    for charlist in matrix:\n",
        "        for j in range(count):\n",
        "            charlist.append(cypher_text[length])\n",
        "            length = length+1\n",
        "        if (extra != 0):\n",
        "            charlist.append(cypher_text[length])\n",
        "            length = length+1\n",
        "            extra = extra-1\n",
        "    for i in matrix:\n",
        "        print(i)\n",
        "    plain_text = ''\n",
        "    for i in range(key+1):\n",
        "        for charlist in matrix:\n",
        "            if i > len(charlist)-1:\n",
        "                continue\n",
        "            plain_text = plain_text + charlist[i]\n",
        "    print(\"Decrypted text of Columnar Transposition is \" + plain_text)\n",
        "\n",
        "\n",
        "string = input(\"Enter a string:\")\n",
        "key = int(input(\"Enter key:\"))\n",
        "col = int(input(\"Enter column number:\"))\n",
        "print(\"Cypher Caesar\")\n",
        "c1 = CCT_Enc(string, key)\n",
        "CCT_Dec(c1, key)\n",
        "print(\"Columnar Transposition\")\n",
        "c2 = ColTT_Enc(string, col)\n",
        "ColTT_Dec(c2, col)"
      ],
      "metadata": {
        "colab": {
          "base_uri": "https://localhost:8080/"
        },
        "id": "1Re25zq4fyqS",
        "outputId": "76a0b15e-1980-4a3d-bab9-9b9d439aaea6"
      },
      "execution_count": 9,
      "outputs": [
        {
          "output_type": "stream",
          "name": "stdout",
          "text": [
            "Enter a string:HELLO\n",
            "Enter key:3\n",
            "Enter column number:2\n",
            "Cypher Caesar\n",
            "Cipher text of Caesar Cipher is KHOOR\n",
            "Decrypted text of Caesar Cypher is HELLO\n",
            "Columnar Transposition\n",
            "['H', 'L', 'O']\n",
            "['E', 'L']\n",
            "Cipher text of Columnar Transposition is HLOEL\n",
            "['H', 'L', 'O']\n",
            "['E', 'L']\n",
            "Decrypted text of Columnar Transposition is HELLO\n"
          ]
        }
      ]
    }
  ]
}