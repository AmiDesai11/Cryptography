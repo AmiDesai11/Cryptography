{
  "nbformat": 4,
  "nbformat_minor": 0,
  "metadata": {
    "colab": {
      "provenance": []
    },
    "kernelspec": {
      "name": "python3",
      "display_name": "Python 3"
    },
    "language_info": {
      "name": "python"
    }
  },
  "cells": [
    {
      "cell_type": "markdown",
      "source": [
        "This code demonstrates the Diffie-Hellman key exchange algorithm. It showcases how two people, Irene and Sherlock, can securely establish a shared secret key over an insecure communication channel."
      ],
      "metadata": {
        "id": "LYLxGx0MAtPI"
      }
    },
    {
      "cell_type": "code",
      "source": [
        "from random import randint\n",
        "\n",
        "P = 23\n",
        "\n",
        "Q = 9\n",
        "\n",
        "print('The Value of P is :%d'%(P))\n",
        "print('The Value of Q is :%d'%(Q))\n",
        "\n",
        "a = 4\n",
        "print('The Private Key a for Irene is :%d'%(a))\n",
        "\n",
        "x = int(pow(Q,a,P))\n",
        "\n",
        "b = 3\n",
        "print('The Private Key b for Sherlock is :%d'%(b))\n",
        "\n",
        "y = int(pow(Q,b,P))\n",
        "\n",
        "ka = int(pow(y,a,P))\n",
        "\n",
        "kb = int(pow(x,b,P))\n",
        "\n",
        "print('Secret key for the Irene is : %d'%(ka))\n",
        "print('Secret Key for the Sherlock is : %d'%(kb))"
      ],
      "metadata": {
        "colab": {
          "base_uri": "https://localhost:8080/"
        },
        "id": "PiyB1ZHZCpuQ",
        "outputId": "43c312c8-6fac-4df3-b634-d217a8d523c7"
      },
      "execution_count": null,
      "outputs": [
        {
          "output_type": "stream",
          "name": "stdout",
          "text": [
            "The Value of P is :23\n",
            "The Value of Q is :9\n",
            "The Private Key a for Irene is :4\n",
            "The Private Key b for Sherlock is :3\n",
            "Secret key for the Irene is : 9\n",
            "Secret Key for the Sherlock is : 9\n"
          ]
        }
      ]
    }
  ]
}