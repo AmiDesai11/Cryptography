{
  "nbformat": 4,
  "nbformat_minor": 0,
  "metadata": {
    "colab": {
      "provenance": []
    },
    "kernelspec": {
      "name": "python3",
      "display_name": "Python 3"
    },
    "language_info": {
      "name": "python"
    }
  },
  "cells": [
    {
      "cell_type": "markdown",
      "source": [
        "This code implements the RSA encryption and decryption algorithm. RSA is a widely used public-key cryptosystem that is used for secure communication and digital signatures."
      ],
      "metadata": {
        "id": "OMtGhblPXPKU"
      }
    },
    {
      "cell_type": "code",
      "source": [
        "import random\n",
        "\n",
        "def is_prime(n):\n",
        "    if n < 2:\n",
        "        return False\n",
        "    for i in range(2, int(n ** 0.5) + 1):\n",
        "        if n % i == 0:\n",
        "            return False\n",
        "    return True\n",
        "\n",
        "def generate_random_primes():\n",
        "    primes = []\n",
        "    a = 1 * 10 ** 10\n",
        "    b = 9 * 10 ** 10\n",
        "    while len(primes) < 2:\n",
        "        num = random.randint(a, b)\n",
        "        if is_prime(num):\n",
        "            primes.append(num)\n",
        "    return primes\n",
        "\n",
        "def gcd(a, b):\n",
        "    while b != 0:\n",
        "        a, b = b, a % b\n",
        "    return a\n",
        "\n",
        "def find_e(phi):\n",
        "    for e in range(2, phi-1):\n",
        "        if gcd(e, phi) == 1:\n",
        "            return e\n",
        "    return None\n",
        "\n",
        "def gcd_extended(a, b):\n",
        "    if a == 0:\n",
        "        return (b, 0, 1)\n",
        "    else:\n",
        "        gcd, x, y = gcd_extended(b % a, a)\n",
        "        return (gcd, y - (b // a) * x, x)\n",
        "\n",
        "def find_d(e, phi):\n",
        "    gcd, x, _ = gcd_extended(e, phi)\n",
        "    if gcd != 1:\n",
        "        return None\n",
        "    else:\n",
        "        return x % phi\n",
        "\n",
        "def public_private_key():\n",
        "    p, q = generate_random_primes()\n",
        "    n = p*q\n",
        "    phi = (p-1)*(q-1)\n",
        "    e = find_e(phi)\n",
        "    d = find_d(e, phi)\n",
        "    if e is None or d is None:\n",
        "        print(\"Encryption and Decryption not possible.\")\n",
        "    print(f'e: {e}\\nd: {d}')\n",
        "    return(e, d, n)\n",
        "\n",
        "def encrypt(m, e, n):\n",
        "    ct = pow(m, e, n)\n",
        "    return ct\n",
        "\n",
        "def decrypt(c, d, n):\n",
        "    pt = pow(c, d, n)\n",
        "    return pt\n",
        "\n",
        "m = int(input(\"Enter the message to be encrypted: \"))\n",
        "\n",
        "e, d, n = public_private_key()\n",
        "\n",
        "c = encrypt(m, e, n)\n",
        "print(\"Encrypted data = \", c)\n",
        "p = decrypt(c, d, n)\n",
        "print(\"Decrypted data = \", p)"
      ],
      "metadata": {
        "colab": {
          "base_uri": "https://localhost:8080/"
        },
        "id": "WnTCx5yiXfDK",
        "outputId": "a61b46d8-a050-4545-8f56-946a6e02fbe8"
      },
      "execution_count": 4,
      "outputs": [
        {
          "output_type": "stream",
          "name": "stdout",
          "text": [
            "Enter the message to be encrypted: 1234\n",
            "e: 5\n",
            "d: 147988457327531914445\n",
            "Encrypted data =  2861381721051424\n",
            "Decrypted data =  1234\n"
          ]
        }
      ]
    }
  ]
}