{
  "nbformat": 4,
  "nbformat_minor": 0,
  "metadata": {
    "colab": {
      "provenance": []
    },
    "kernelspec": {
      "name": "python3",
      "display_name": "Python 3"
    },
    "language_info": {
      "name": "python"
    }
  },
  "cells": [
    {
      "cell_type": "markdown",
      "source": [
        "An Affine Cipher is a type of substitution cipher where each letter in the plaintext is mapped to a letter in the ciphertext using the equation E(x) = (ax + b) % 26, where x is the position of the letter in the alphabet, a and b are the key values. To decrypt, you would use the equation D(x) = a^-1 * (x - b) % 26, where a^-1 is the modular multiplicative inverse of a modulo 26."
      ],
      "metadata": {
        "id": "KUWAoPQpbtAL"
      }
    },
    {
      "cell_type": "code",
      "source": [
        "def gcd(a, b):\n",
        "    while b != 0:\n",
        "        a, b = b, a % b\n",
        "    return a\n",
        "\n",
        "def mod_inverse(a, m):\n",
        "    for x in range(1, m):\n",
        "        if (a * x) % m == 1:\n",
        "            return x\n",
        "    return None\n",
        "\n",
        "def affine_encrypt(plain_text, a, b):\n",
        "    encrypted_text = \"\"\n",
        "    for char in plain_text:\n",
        "        if char.isalpha():\n",
        "            if char.isupper():\n",
        "                encrypted_text += chr((a * (ord(char) - 65) + b) % 26 + 65)\n",
        "            else:\n",
        "                encrypted_text += chr((a * (ord(char) - 97) + b) % 26 + 97)\n",
        "        else:\n",
        "            encrypted_text += char\n",
        "    return encrypted_text\n",
        "\n",
        "def affine_decrypt(cipher_text, a, b):\n",
        "    decrypted_text = \"\"\n",
        "    a_inverse = mod_inverse(a, 26)\n",
        "    if a_inverse is None:\n",
        "        return \"Error: The key 'a' is not valid for decryption.\"\n",
        "    for char in cipher_text:\n",
        "        if char.isalpha():\n",
        "            if char.isupper():\n",
        "                decrypted_text += chr((a_inverse * (ord(char) - 65 - b)) % 26 + 65)\n",
        "            else:\n",
        "                decrypted_text += chr((a_inverse * (ord(char) - 97 - b)) % 26 + 97)\n",
        "        else:\n",
        "            decrypted_text += char\n",
        "    return decrypted_text\n",
        "\n",
        "plaintext = \"Ami Loves Cryptography!\"\n",
        "key_a = 5\n",
        "key_b = 8\n",
        "\n",
        "cipher_text = affine_encrypt(plaintext, key_a, key_b)\n",
        "print(\"Encrypted:\", cipher_text)\n",
        "\n",
        "decrypted_text = affine_decrypt(cipher_text, key_a, key_b)\n",
        "print(\"Decrypted:\", decrypted_text)\n"
      ],
      "metadata": {
        "colab": {
          "base_uri": "https://localhost:8080/"
        },
        "id": "sgbStkYeb0tf",
        "outputId": "2b997dce-3b33-4083-b5c1-da0ba55c21cd"
      },
      "execution_count": 2,
      "outputs": [
        {
          "output_type": "stream",
          "name": "stdout",
          "text": [
            "Encrypted: Iqw Lajcu Spyfzampifry!\n",
            "Decrypted: Ami Loves Cryptography!\n"
          ]
        }
      ]
    }
  ]
}