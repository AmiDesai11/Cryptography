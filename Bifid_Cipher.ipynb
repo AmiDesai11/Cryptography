{
  "nbformat": 4,
  "nbformat_minor": 0,
  "metadata": {
    "colab": {
      "provenance": []
    },
    "kernelspec": {
      "name": "python3",
      "display_name": "Python 3"
    },
    "language_info": {
      "name": "python"
    }
  },
  "cells": [
    {
      "cell_type": "markdown",
      "source": [
        "The Bifid Cipher is a type of polybius square cipher, where a 5x5 matrix is used to encode and decode the plaintext."
      ],
      "metadata": {
        "id": "cVWsBjsLiFJR"
      }
    },
    {
      "cell_type": "code",
      "source": [
        "def generate_polybius_square(key):\n",
        "    alphabet = \"ABCDEFGHIKLMNOPQRSTUVWXYZ\"\n",
        "    key = key.upper().replace(\"J\", \"I\")\n",
        "    key += alphabet\n",
        "    polybius_square = []\n",
        "\n",
        "    for row in range(5):\n",
        "        polybius_square.append([])\n",
        "        for col in range(5):\n",
        "            char = key[row*5 + col]\n",
        "            polybius_square[row].append(char)\n",
        "\n",
        "    return polybius_square\n",
        "\n",
        "def encrypt(plaintext, key):\n",
        "    polybius_square = generate_polybius_square(key)\n",
        "    plaintext = plaintext.upper().replace(\"J\", \"I\")\n",
        "\n",
        "    # Convert characters to coordinates in the polybius square\n",
        "    coordinates = []\n",
        "    for char in plaintext:\n",
        "        for row in range(5):\n",
        "            for col in range(5):\n",
        "                if polybius_square[row][col] == char:\n",
        "                    coordinates.append((row, col))\n",
        "                    break\n",
        "\n",
        "    # Combine the coordinates into pairs\n",
        "    combined_coordinates = [coord for pair in coordinates for coord in pair]\n",
        "\n",
        "    # Convert the combined coordinates back to ciphertext\n",
        "    ciphertext = \"\"\n",
        "    for i in range(0, len(combined_coordinates), 2):\n",
        "        row, col = combined_coordinates[i], combined_coordinates[i+1]\n",
        "        ciphertext += polybius_square[row][col]\n",
        "\n",
        "    return ciphertext\n",
        "\n",
        "def decrypt(ciphertext, key):\n",
        "    polybius_square = generate_polybius_square(key)\n",
        "\n",
        "    # Convert characters to coordinates in the polybius square\n",
        "    coordinates = []\n",
        "    for char in ciphertext:\n",
        "        for row in range(5):\n",
        "            for col in range(5):\n",
        "                if polybius_square[row][col] == char:\n",
        "                    coordinates.extend((row, col))\n",
        "                    break\n",
        "\n",
        "    # Split the coordinates into pairs\n",
        "    split_coordinates = [(coordinates[i], coordinates[i+1]) for i in range(0, len(coordinates), 2)]\n",
        "\n",
        "    # Convert the split coordinates back to plaintext\n",
        "    plaintext = \"\"\n",
        "    for row, col in split_coordinates:\n",
        "        plaintext += polybius_square[row][col]\n",
        "\n",
        "    return plaintext\n",
        "\n",
        "if __name__ == \"__main__\":\n",
        "    key = \"CIPHER\"  # The key for the Polybius Square\n",
        "    plaintext = \"AMI LOVES CRYPTOGRAPHY\"  # The message to be encrypted\n",
        "\n",
        "    ciphertext = encrypt(plaintext, key)\n",
        "    print(\"Encrypted:\", ciphertext)\n",
        "\n",
        "    decrypted_text = decrypt(ciphertext, key)\n",
        "    print(\"Decrypted:\", decrypted_text)"
      ],
      "metadata": {
        "colab": {
          "base_uri": "https://localhost:8080/"
        },
        "id": "TsJiQoSNxytL",
        "outputId": "f5c917c3-90c8-4848-f3d9-e9ebc9fef1ca"
      },
      "execution_count": 2,
      "outputs": [
        {
          "output_type": "stream",
          "name": "stdout",
          "text": [
            "Encrypted: AMIILOEESCCRRPPTOGRRAPPHH\n",
            "Decrypted: AMIIIILOEEEESCCCCRRRRPPPPTOGRRRRAPPPPHHHH\n"
          ]
        }
      ]
    }
  ]
}