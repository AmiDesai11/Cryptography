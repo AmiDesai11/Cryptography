{
  "cells": [
    {
      "cell_type": "markdown",
      "source": [
        "Implementing encryption and decryption using a Caesar cipher."
      ],
      "metadata": {
        "id": "9PcdSnWg9_sx"
      }
    },
    {
      "cell_type": "code",
      "source": [
        "def encrypt(key, message):\n",
        "    message = message.upper()\n",
        "    alpha = \"ABCDEFGHIJKLMNOPQRSTUVWXYZ\"\n",
        "    result = \"\"\n",
        "\n",
        "    for letter in message:\n",
        "        if letter in alpha:\n",
        "            letter_index = (alpha.find(letter) + key) % len(alpha)\n",
        "\n",
        "            result = result + alpha[letter_index]\n",
        "        else:\n",
        "            result = result + letter\n",
        "\n",
        "    return result\n",
        "\n",
        "def decrypt(key, message):\n",
        "    message = message.upper()\n",
        "    alpha = \"ABCDEFGHIJKLMNOPQRSTUVWXYZ\"\n",
        "    result = \"\"\n",
        "\n",
        "    for letter in message:\n",
        "        if letter in alpha:\n",
        "            letter_index = (alpha.find(letter) - key) % len(alpha)\n",
        "\n",
        "            result = result + alpha[letter_index]\n",
        "        else:\n",
        "            result = result + letter\n",
        "\n",
        "    return result\n",
        "\n",
        "def main():\n",
        "    word = \"Ami\"\n",
        "    encrypted = encrypt(3,word)\n",
        "    print(encrypted)\n",
        "    decrypted = decrypt(3,encrypted)\n",
        "    print(decrypted)\n",
        "\n",
        "if __name__ == \"__main__\":\n",
        "    main()"
      ],
      "metadata": {
        "id": "DvwHnv-29_-t",
        "outputId": "e7191808-2435-4f82-d6b9-4ad37f56d96b",
        "colab": {
          "base_uri": "https://localhost:8080/"
        }
      },
      "execution_count": 18,
      "outputs": [
        {
          "output_type": "stream",
          "name": "stdout",
          "text": [
            "DPL\n",
            "AMI\n"
          ]
        }
      ]
    }
  ],
  "metadata": {
    "colab": {
      "name": "Welcome To Colaboratory",
      "provenance": []
    },
    "kernelspec": {
      "display_name": "Python 3",
      "name": "python3"
    }
  },
  "nbformat": 4,
  "nbformat_minor": 0
}