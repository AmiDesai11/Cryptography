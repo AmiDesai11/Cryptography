{
  "nbformat": 4,
  "nbformat_minor": 0,
  "metadata": {
    "colab": {
      "provenance": []
    },
    "kernelspec": {
      "name": "python3",
      "display_name": "Python 3"
    },
    "language_info": {
      "name": "python"
    }
  },
  "cells": [
    {
      "cell_type": "markdown",
      "source": [
        "The code demonstrates the generation, signing, and verification of a digital signature using the RSA algorithm with the cryptography library."
      ],
      "metadata": {
        "id": "LYLxGx0MAtPI"
      }
    },
    {
      "cell_type": "code",
      "source": [
        "!pip install cryptography"
      ],
      "metadata": {
        "colab": {
          "base_uri": "https://localhost:8080/"
        },
        "id": "Gj77i1DyA6rF",
        "outputId": "f0167c79-3659-409a-b404-c3bfc7631299"
      },
      "execution_count": 4,
      "outputs": [
        {
          "output_type": "stream",
          "name": "stdout",
          "text": [
            "Requirement already satisfied: cryptography in /usr/local/lib/python3.10/dist-packages (41.0.1)\n",
            "Requirement already satisfied: cffi>=1.12 in /usr/local/lib/python3.10/dist-packages (from cryptography) (1.15.1)\n",
            "Requirement already satisfied: pycparser in /usr/local/lib/python3.10/dist-packages (from cffi>=1.12->cryptography) (2.21)\n"
          ]
        }
      ]
    },
    {
      "cell_type": "code",
      "source": [
        "from cryptography.hazmat.primitives import hashes\n",
        "from cryptography.hazmat.primitives.asymmetric import rsa, padding\n",
        "from cryptography.hazmat.primitives.serialization import load_pem_private_key, load_pem_public_key\n",
        "from cryptography.exceptions import InvalidSignature\n",
        "import base64\n",
        "\n",
        "# Generate a key pair\n",
        "def generate_key_pair():\n",
        "    private_key = rsa.generate_private_key(\n",
        "        public_exponent=65537,\n",
        "        key_size=2048\n",
        "    )\n",
        "    public_key = private_key.public_key()\n",
        "    return private_key, public_key\n",
        "\n",
        "# Sign a message with the private key\n",
        "def sign(message, private_key):\n",
        "    signature = private_key.sign(\n",
        "        message,\n",
        "        padding.PSS(\n",
        "            mgf=padding.MGF1(hashes.SHA256()),\n",
        "            salt_length=padding.PSS.MAX_LENGTH\n",
        "        ),\n",
        "        hashes.SHA256()\n",
        "    )\n",
        "    return base64.b64encode(signature)\n",
        "\n",
        "# Verify a signature with the public key\n",
        "def verify(message, signature, public_key):\n",
        "    try:\n",
        "        signature_bytes = base64.b64decode(signature)\n",
        "        public_key.verify(\n",
        "            signature_bytes,\n",
        "            message,\n",
        "            padding.PSS(\n",
        "                mgf=padding.MGF1(hashes.SHA256()),\n",
        "                salt_length=padding.PSS.MAX_LENGTH\n",
        "            ),\n",
        "            hashes.SHA256()\n",
        "        )\n",
        "        return True\n",
        "    except InvalidSignature:\n",
        "        return False\n",
        "\n",
        "# Example usage\n",
        "private_key, public_key = generate_key_pair()\n",
        "message = b'This is a message to be signed'\n",
        "signature = sign(message, private_key)\n",
        "\n",
        "print(f'Message: {message}')\n",
        "print(f'Signature: {signature}')\n",
        "\n",
        "is_valid = verify(message, signature, public_key)\n",
        "print(f'Is the signature valid? {is_valid}')"
      ],
      "metadata": {
        "colab": {
          "base_uri": "https://localhost:8080/"
        },
        "id": "XTyyGY7FAiRm",
        "outputId": "3356324c-fc16-47aa-987c-5dff378bfe32"
      },
      "execution_count": 5,
      "outputs": [
        {
          "output_type": "stream",
          "name": "stdout",
          "text": [
            "Message: b'This is a message to be signed'\n",
            "Signature: b'jyeiRH/SX3yd+QpVkk3D+ysyQJuv8NgKlAhe89Bz9rGh8wRHwfudbxqOV2j0m1531xSFjshQ7/eGLOoDZU8jPVyiKU32pIU7bytbIoVzuKOpEuNXrUjuLzMQZlYBvmecjH2MiSrXn631KIgYC8nxF3foe67UY151bbR+KK+Knj6ttejE9+1dwzNKXiB/oSAdiJBdOi9LVC0ubcfNW7OnMZso+nH0VCaP+hMauosHxIQCLwIdt+Gmvntq4thuoxKSq5K2WYkaFoy0vwmt40SNVZk19ILStHU/3ddBIMqLi3e8wHolCtPoLc9hlHt2e6BrR/wZlgXg2fSaXtus0NaKoQ=='\n",
            "Is the signature valid? True\n"
          ]
        }
      ]
    }
  ]
}