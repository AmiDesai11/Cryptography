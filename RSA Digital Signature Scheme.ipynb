{
  "nbformat": 4,
  "nbformat_minor": 0,
  "metadata": {
    "colab": {
      "provenance": []
    },
    "kernelspec": {
      "name": "python3",
      "display_name": "Python 3"
    },
    "language_info": {
      "name": "python"
    }
  },
  "cells": [
    {
      "cell_type": "markdown",
      "source": [
        "This code implements the RSA digital signature scheme. It allows the sender to generate a digital signature for a given message, and the receiver can verify the integrity and authenticity of the message using the signature.\n",
        "The RSA digital signature scheme is a cryptographic algorithm that provides a mechanism for ensuring the integrity and authenticity of digital messages or documents. It is based on the principles of public-key cryptography."
      ],
      "metadata": {
        "id": "W-sRyH26nWMW"
      }
    },
    {
      "cell_type": "code",
      "source": [
        "import hashlib\n",
        "\n",
        "def gcd(a , b):\n",
        "  while b != 0:\n",
        "    a , b = b , a % b\n",
        "  return a\n",
        "\n",
        "def encrypt(key , pt):\n",
        "  a , b = key\n",
        "  return pow(pt,a,b)\n",
        "\n",
        "def decryption(key , ct):\n",
        "  a , b = key\n",
        "  return pow(ct,a,b)\n",
        "\n",
        "if __name__ == \"__main__\":\n",
        "  p = int(input(\"Enter value of p : \"))\n",
        "  q = int(input(\"Enter value of q : \"))\n",
        "  n = p * q\n",
        "  phi = (p-1)*(q-1)\n",
        "  e = 2\n",
        "  while gcd(e , phi) != 1:\n",
        "    e += 1\n",
        "  d = pow(e,-1,phi)\n",
        "  # sender side\n",
        "  msg= input(\"Enter plain text : \")\n",
        "  plain_text  = bytes(msg,'utf-8')\n",
        "\n",
        "  hash_value = hashlib.sha256(plain_text).hexdigest()\n",
        "  hash_value = int(hash_value, 16) % n\n",
        "  print(\"Hash value at sender end: \", hash_value)\n",
        "\n",
        "  signature = encrypt((d,n),hash_value)\n",
        "  print(\"Digital signature: \", signature)\n",
        "\n",
        "  # receiver side\n",
        "  hash_value_check = decryption((e,n), signature)\n",
        "  print(\"Hash value checked at receiver end: \", hash_value_check)\n",
        "  if hash_value_check == hash_value:\n",
        "      print(\"Verified\")\n",
        "  else:\n",
        "      print(\"Not verified\")"
      ],
      "metadata": {
        "colab": {
          "base_uri": "https://localhost:8080/"
        },
        "id": "d9KkRnJriKCp",
        "outputId": "c6d14b8a-6f40-4df7-8d5f-08aa2ea4eac8"
      },
      "execution_count": 11,
      "outputs": [
        {
          "output_type": "stream",
          "name": "stdout",
          "text": [
            "Enter value of p : 11\n",
            "Enter value of q : 5\n",
            "Enter plain text : HAPPY BIRTHDAY\n",
            "Hash value at sender end:  21\n",
            "Digital signature:  21\n",
            "Hash value checked at receiver end:  21\n",
            "Verified\n"
          ]
        }
      ]
    }
  ]
}