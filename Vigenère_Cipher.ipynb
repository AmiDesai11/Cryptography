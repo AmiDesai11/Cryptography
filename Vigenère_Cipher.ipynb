{
  "nbformat": 4,
  "nbformat_minor": 0,
  "metadata": {
    "colab": {
      "provenance": []
    },
    "kernelspec": {
      "name": "python3",
      "display_name": "Python 3"
    },
    "language_info": {
      "name": "python"
    }
  },
  "cells": [
    {
      "cell_type": "markdown",
      "source": [
        "The Vigenère cipher is a method of encrypting alphabetic text using a simple form of polyalphabetic substitution."
      ],
      "metadata": {
        "id": "I40RLCVI_3wL"
      }
    },
    {
      "cell_type": "code",
      "source": [
        "def vigenere_encrypt(plaintext, key):\n",
        "    encrypted_text = \"\"\n",
        "    key = key.upper()\n",
        "\n",
        "    for i in range(len(plaintext)):\n",
        "        char = plaintext[i]\n",
        "        if char.isalpha():\n",
        "            key_char = key[i % len(key)]\n",
        "            key_shift = ord(key_char) - ord('A')\n",
        "            if char.isupper():\n",
        "                encrypted_char = chr((ord(char) - ord('A') + key_shift) % 26 + ord('A'))\n",
        "            else:\n",
        "                encrypted_char = chr((ord(char) - ord('a') + key_shift) % 26 + ord('a'))\n",
        "        else:\n",
        "            encrypted_char = char\n",
        "\n",
        "        encrypted_text += encrypted_char\n",
        "\n",
        "    return encrypted_text\n",
        "\n",
        "\n",
        "def vigenere_decrypt(ciphertext, key):\n",
        "    decrypted_text = \"\"\n",
        "    key = key.upper()\n",
        "\n",
        "    for i in range(len(ciphertext)):\n",
        "        char = ciphertext[i]\n",
        "        if char.isalpha():\n",
        "            key_char = key[i % len(key)]\n",
        "            key_shift = ord(key_char) - ord('A')\n",
        "            if char.isupper():\n",
        "                decrypted_char = chr((ord(char) - ord('A') - key_shift) % 26 + ord('A'))\n",
        "            else:\n",
        "                decrypted_char = chr((ord(char) - ord('a') - key_shift) % 26 + ord('a'))\n",
        "        else:\n",
        "            decrypted_char = char\n",
        "\n",
        "        decrypted_text += decrypted_char\n",
        "\n",
        "    return decrypted_text\n",
        "\n",
        "plaintext = \"AMI LOVES CRYPTOGRAPHY\"\n",
        "key = \"KEY\"\n",
        "\n",
        "encrypted_text = vigenere_encrypt(plaintext, key)\n",
        "decrypted_text = vigenere_decrypt(encrypted_text, key)\n",
        "\n",
        "print(\"Original Message:\", plaintext)\n",
        "print(\"Encrypted Message:\", encrypted_text)\n",
        "print(\"Decrypted Message:\", decrypted_text)"
      ],
      "metadata": {
        "colab": {
          "base_uri": "https://localhost:8080/"
        },
        "id": "kZA5GnWy_5gE",
        "outputId": "ba718e4c-602d-4782-974e-fb1cc0be5b3c"
      },
      "execution_count": 4,
      "outputs": [
        {
          "output_type": "stream",
          "name": "stdout",
          "text": [
            "Original Message: AMI LOVES CRYPTOGRAPHY\n",
            "Encrypted Message: KQG PMFIQ GPITRYKPKTFI\n",
            "Decrypted Message: AMI LOVES CRYPTOGRAPHY\n"
          ]
        }
      ]
    }
  ]
}