{
  "nbformat": 4,
  "nbformat_minor": 0,
  "metadata": {
    "colab": {
      "provenance": []
    },
    "kernelspec": {
      "name": "python3",
      "display_name": "Python 3"
    },
    "language_info": {
      "name": "python"
    }
  },
  "cells": [
    {
      "cell_type": "markdown",
      "source": [
        "The code is used for generating a key pair, signing a message with a private key, and verifying the signature with the corresponding public key. This is known as asymmetric cryptography or public-key cryptography."
      ],
      "metadata": {
        "id": "LvkdI-ooeq8Q"
      }
    },
    {
      "cell_type": "code",
      "source": [
        "!pip install cryptography"
      ],
      "metadata": {
        "colab": {
          "base_uri": "https://localhost:8080/"
        },
        "id": "Vk72__K4e-RS",
        "outputId": "d1abc4c2-3064-4ec6-d26c-665a679409ed"
      },
      "execution_count": 5,
      "outputs": [
        {
          "output_type": "stream",
          "name": "stdout",
          "text": [
            "Requirement already satisfied: cryptography in /usr/local/lib/python3.10/dist-packages (41.0.1)\n",
            "Requirement already satisfied: cffi>=1.12 in /usr/local/lib/python3.10/dist-packages (from cryptography) (1.15.1)\n",
            "Requirement already satisfied: pycparser in /usr/local/lib/python3.10/dist-packages (from cffi>=1.12->cryptography) (2.21)\n"
          ]
        }
      ]
    },
    {
      "cell_type": "code",
      "source": [
        "from cryptography.hazmat.primitives import hashes\n",
        "from cryptography.hazmat.primitives.asymmetric import rsa, padding\n",
        "from cryptography.hazmat.primitives.serialization import load_pem_private_key, load_pem_public_key\n",
        "from cryptography.exceptions import InvalidSignature\n",
        "import base64\n",
        "\n",
        "# Generate a key pair\n",
        "def generate_key_pair():\n",
        "    private_key = rsa.generate_private_key(\n",
        "        public_exponent=65537,\n",
        "        key_size=2048\n",
        "    )\n",
        "    public_key = private_key.public_key()\n",
        "    return private_key, public_key\n",
        "\n",
        "# Sign a message with the private key\n",
        "def sign(message, private_key):\n",
        "    signature = private_key.sign(\n",
        "        message,\n",
        "        padding.PSS(\n",
        "            mgf=padding.MGF1(hashes.SHA256()),\n",
        "            salt_length=padding.PSS.MAX_LENGTH\n",
        "        ),\n",
        "        hashes.SHA256()\n",
        "    )\n",
        "    return base64.b64encode(signature).decode()\n",
        "\n",
        "# Verify a signature with the public key\n",
        "def verify(message, signature, public_key):\n",
        "    try:\n",
        "        signature_bytes = base64.b64decode(signature)\n",
        "        public_key.verify(\n",
        "            signature_bytes,\n",
        "            message,\n",
        "            padding.PSS(\n",
        "                mgf=padding.MGF1(hashes.SHA256()),\n",
        "                salt_length=padding.PSS.MAX_LENGTH\n",
        "            ),\n",
        "            hashes.SHA256()\n",
        "        )\n",
        "        return True\n",
        "    except InvalidSignature:\n",
        "        return False\n",
        "\n",
        "# Example usage\n",
        "private_key, public_key = generate_key_pair()\n",
        "message = b'This is a message to be signed'\n",
        "signature = sign(message, private_key)\n",
        "\n",
        "print(f'Message: {message.decode()}')\n",
        "print(f'Signature: {signature}')\n",
        "\n",
        "is_valid = verify(message, signature, public_key)\n",
        "print(f'Is the signature valid? {is_valid}')"
      ],
      "metadata": {
        "colab": {
          "base_uri": "https://localhost:8080/"
        },
        "id": "hr9DKKZjfLRb",
        "outputId": "d5720228-3d58-49e6-b891-c81c6a836fd9"
      },
      "execution_count": 6,
      "outputs": [
        {
          "output_type": "stream",
          "name": "stdout",
          "text": [
            "Message: This is a message to be signed\n",
            "Signature: ij5CiP8LbC8ARq4bGVtZ9wghiudh783XWA92gLJZodlExWVM99Bl+J8j+yzdPTXv5sLQWIhTyA7bmPRidSL97lxLOhEFNz6RfltfxMFdNiroBr4FoE3PY0aWl/6/7AItzyhQjF6XlIGSUtFhxI9CDnXp9uepAHzMSASmtKic0yd815ao8dKuppvzAoO0JT6Liuhfybyh53vq+mSRKvvkLaDswzLUc2ZJcoaZnc4RH9uriXyriKP3XS5Shkz4b96SAjyx40uqZmKcJfvy3eaHXQ04rNMk8so03KwJyBHBLVs3es3evQk3+zLuZ7ZKPO8vYsYIN2LoRYEC9Rotxk6oZw==\n",
            "Is the signature valid? True\n"
          ]
        }
      ]
    }
  ]
}