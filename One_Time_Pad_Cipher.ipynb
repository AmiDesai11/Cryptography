{
  "nbformat": 4,
  "nbformat_minor": 0,
  "metadata": {
    "colab": {
      "provenance": []
    },
    "kernelspec": {
      "name": "python3",
      "display_name": "Python 3"
    },
    "language_info": {
      "name": "python"
    }
  },
  "cells": [
    {
      "cell_type": "markdown",
      "source": [
        "The One-Time Pad cipher is a type of symmetric encryption that provides perfect secrecy when used correctly. It works by combining the plaintext with a random key of the same length. The key should be truly random, used only once, and kept secret from anyone except the sender and receiver.\n",
        "\n",
        "The encryption process involves bitwise XOR (exclusive OR) operation between the plaintext and the key, while the decryption process uses the same key to XOR the ciphertext and obtain the original plaintext."
      ],
      "metadata": {
        "id": "Q_pr8ARtLA2C"
      }
    },
    {
      "cell_type": "code",
      "source": [
        "import random\n",
        "\n",
        "def generate_random_key(length):\n",
        "    \"\"\"Generate a random key of the specified length.\"\"\"\n",
        "    key = []\n",
        "    for _ in range(length):\n",
        "        key.append(random.choice('01'))\n",
        "    return ''.join(key)\n",
        "\n",
        "def encrypt(plaintext, key):\n",
        "    \"\"\"Encrypt the plaintext using the one-time pad cipher.\"\"\"\n",
        "    ciphertext = []\n",
        "    for p, k in zip(plaintext, key):\n",
        "        # Perform bitwise XOR on the ASCII value of each character of the plaintext and key\n",
        "        xor_result = ord(p) ^ int(k)\n",
        "        ciphertext.append(format(xor_result, '08b'))  # Convert the result back to 8-bit binary string\n",
        "    return ''.join(ciphertext)\n",
        "\n",
        "def decrypt(ciphertext, key):\n",
        "    \"\"\"Decrypt the ciphertext using the one-time pad cipher.\"\"\"\n",
        "    plaintext = []\n",
        "    for c, k in zip(ciphertext, key):\n",
        "        # Perform bitwise XOR on the ASCII value of each character of the ciphertext and key\n",
        "        xor_result = int(c, 2) ^ int(k)\n",
        "        plaintext.append(chr(xor_result))  # Convert the result back to a character\n",
        "    return ''.join(plaintext)\n",
        "\n",
        "if __name__ == \"__main__\":\n",
        "    plaintext = \"AMI LOVES CRYPTOGRAPHY\"\n",
        "\n",
        "    # Generate a random key of the same length as the plaintext\n",
        "    key = generate_random_key(len(plaintext))\n",
        "\n",
        "    # Encryption\n",
        "    ciphertext = encrypt(plaintext, key)\n",
        "    print(\"Plaintext:\", plaintext)\n",
        "    print(\"Key:\", key)\n",
        "    print(\"Ciphertext:\", ciphertext)\n",
        "\n",
        "    # Decryption\n",
        "    decrypted_text = decrypt(ciphertext, key)\n",
        "    print(\"Decrypted Text:\", decrypted_text)"
      ],
      "metadata": {
        "colab": {
          "base_uri": "https://localhost:8080/"
        },
        "id": "wOAgax3tLcud",
        "outputId": "a4f4dd6b-31a2-4500-b328-60c3b2749167"
      },
      "execution_count": 3,
      "outputs": [
        {
          "output_type": "stream",
          "name": "stdout",
          "text": [
            "Plaintext: AMI LOVES CRYPTOGRAPHY\n",
            "Key: 0101101111010001101000\n",
            "Ciphertext: 01000001010011000100100100100001010011010100111101010111010001000101001000100001010000110101001101011001010100000101010001001110010001100101001001000000010100000100100001011001\n",
            "Decrypted Text: \u0000\u0000\u0000\u0001\u0001\u0000\u0001\u0000\u0001\u0000\u0000\u0001\u0001\u0001\u0000\u0001\u0001\u0001\u0001\u0000\u0001\u0000\n"
          ]
        }
      ]
    }
  ]
}