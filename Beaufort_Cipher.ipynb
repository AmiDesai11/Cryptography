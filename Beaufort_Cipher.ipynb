{
  "nbformat": 4,
  "nbformat_minor": 0,
  "metadata": {
    "colab": {
      "provenance": []
    },
    "kernelspec": {
      "name": "python3",
      "display_name": "Python 3"
    },
    "language_info": {
      "name": "python"
    }
  },
  "cells": [
    {
      "cell_type": "markdown",
      "source": [
        "The Beaufort Cipher is another variant of the Vigenère Cipher, but instead of using the encryption key directly, it uses the key's complementary key to perform the encryption and decryption. The complementary key is derived by subtracting the corresponding letter's position in the alphabet from 'Z' (assuming the alphabet is in uppercase). The decryption process is similar to the encryption process."
      ],
      "metadata": {
        "id": "DKCJsx7Jc_ls"
      }
    },
    {
      "cell_type": "code",
      "source": [
        "def beaufort_encrypt(plain_text, key):\n",
        "    encrypted_text = \"\"\n",
        "    key = key.upper()\n",
        "\n",
        "    for i in range(len(plain_text)):\n",
        "        char = plain_text[i].upper()\n",
        "        if char.isalpha():\n",
        "            key_char = key[i % len(key)]\n",
        "            shift = ord('Z') - ord(key_char) + 1\n",
        "            if char.isupper():\n",
        "                encrypted_text += chr((ord(char) - ord('A') + shift) % 26 + ord('A'))\n",
        "            else:\n",
        "                encrypted_text += chr((ord(char) - ord('a') + shift) % 26 + ord('a'))\n",
        "        else:\n",
        "            encrypted_text += char\n",
        "\n",
        "    return encrypted_text\n",
        "\n",
        "def beaufort_decrypt(cipher_text, key):\n",
        "    decrypted_text = \"\"\n",
        "    key = key.upper()\n",
        "\n",
        "    for i in range(len(cipher_text)):\n",
        "        char = cipher_text[i].upper()\n",
        "        if char.isalpha():\n",
        "            key_char = key[i % len(key)]\n",
        "            shift = ord('Z') - ord(key_char) + 1\n",
        "            if char.isupper():\n",
        "                decrypted_text += chr((ord(char) - ord('A') + shift) % 26 + ord('A'))\n",
        "            else:\n",
        "                decrypted_text += chr((ord(char) - ord('a') + shift) % 26 + ord('a'))\n",
        "        else:\n",
        "            decrypted_text += char\n",
        "\n",
        "    return decrypted_text\n",
        "\n",
        "plaintext = \"Ami Loves Cryptography\"\n",
        "key = \"KEY\"\n",
        "\n",
        "cipher_text = beaufort_encrypt(plaintext, key)\n",
        "print(\"Encrypted:\", cipher_text)\n",
        "\n",
        "decrypted_text = beaufort_decrypt(cipher_text, key)\n",
        "print(\"Decrypted:\", decrypted_text)\n"
      ],
      "metadata": {
        "colab": {
          "base_uri": "https://localhost:8080/"
        },
        "id": "j-wpyjykdN9c",
        "outputId": "503b5c4a-8da3-4936-bcc8-04daaa326ae7"
      },
      "execution_count": 7,
      "outputs": [
        {
          "output_type": "stream",
          "name": "stdout",
          "text": [
            "Encrypted: QIK HQLAU YTOLVECTQLJO\n",
            "Decrypted: GEM DSBWW UVEHXUYVGHLE\n"
          ]
        }
      ]
    }
  ]
}