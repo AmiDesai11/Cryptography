{
  "nbformat": 4,
  "nbformat_minor": 0,
  "metadata": {
    "colab": {
      "provenance": []
    },
    "kernelspec": {
      "name": "python3",
      "display_name": "Python 3"
    },
    "language_info": {
      "name": "python"
    }
  },
  "cells": [
    {
      "cell_type": "code",
      "execution_count": 1,
      "metadata": {
        "id": "692e7bABGxIW",
        "outputId": "ec89f1af-c214-4dc1-84cb-5eaf5dfbbadd",
        "colab": {
          "base_uri": "https://localhost:8080/"
        }
      },
      "outputs": [
        {
          "output_type": "stream",
          "name": "stdout",
          "text": [
            "4ff7975b53db6c029d88f6ac67bd78d12fed72cdb2e252a26556d594b87bc9d8\n"
          ]
        }
      ],
      "source": [
        "from hashlib import sha256\n",
        "\n",
        "message = b'HellO'\n",
        "\n",
        "print(sha256(message).hexdigest())"
      ]
    }
  ]
}